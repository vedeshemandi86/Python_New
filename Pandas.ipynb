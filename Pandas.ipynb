{
  "cells": [
    {
      "cell_type": "markdown",
      "metadata": {
        "id": "view-in-github",
        "colab_type": "text"
      },
      "source": [
        "<a href=\"https://colab.research.google.com/github/vedeshemandi86/Python_New/blob/module-3/Pandas.ipynb\" target=\"_parent\"><img src=\"https://colab.research.google.com/assets/colab-badge.svg\" alt=\"Open In Colab\"/></a>"
      ]
    },
    {
      "cell_type": "code",
      "execution_count": null,
      "metadata": {
        "id": "gdxI_Jhx7Q4J",
        "outputId": "e636575d-4484-4b09-bde2-56c1168e15a0"
      },
      "outputs": [
        {
          "name": "stdout",
          "output_type": "stream",
          "text": [
            "            Name Gender   Age Adress  Phone Number\n",
            "0  Vedesh Emandi   Male  18.0  Vizag  9.703433e+09\n",
            "1            NaN    NaN   NaN    NaN           NaN\n"
          ]
        }
      ],
      "source": [
        "import pandas as pd\n",
        "df = pd.read_csv('C:/Users/vedes/OneDrive/Documents/Book3.csv')\n",
        "de = df.drop_duplicates(subset=\"Name\",keep=\"last\")\n",
        "print(de.to_string())\n"
      ]
    },
    {
      "cell_type": "code",
      "execution_count": null,
      "metadata": {
        "id": "2pSmmTS27Q4M",
        "outputId": "27d92b05-806e-46f0-93f1-ead4c758673e"
      },
      "outputs": [
        {
          "name": "stdout",
          "output_type": "stream",
          "text": [
            "1.4.2\n"
          ]
        }
      ],
      "source": [
        "import pandas\n",
        "print(pd.__version__)"
      ]
    },
    {
      "cell_type": "code",
      "execution_count": null,
      "metadata": {
        "id": "WKsIHIbd7Q4N",
        "outputId": "71f60cf2-337a-44d8-a3f9-1684a22afe24"
      },
      "outputs": [
        {
          "data": {
            "text/html": [
              "<div>\n",
              "<style scoped>\n",
              "    .dataframe tbody tr th:only-of-type {\n",
              "        vertical-align: middle;\n",
              "    }\n",
              "\n",
              "    .dataframe tbody tr th {\n",
              "        vertical-align: top;\n",
              "    }\n",
              "\n",
              "    .dataframe thead th {\n",
              "        text-align: right;\n",
              "    }\n",
              "</style>\n",
              "<table border=\"1\" class=\"dataframe\">\n",
              "  <thead>\n",
              "    <tr style=\"text-align: right;\">\n",
              "      <th></th>\n",
              "      <th>Name</th>\n",
              "      <th>Gender</th>\n",
              "      <th>Age</th>\n",
              "      <th>Adress</th>\n",
              "      <th>Phone Number</th>\n",
              "    </tr>\n",
              "  </thead>\n",
              "  <tbody>\n",
              "    <tr>\n",
              "      <th>Age</th>\n",
              "      <td>None</td>\n",
              "      <td>None</td>\n",
              "      <td>NaN</td>\n",
              "      <td>None</td>\n",
              "      <td>NaN</td>\n",
              "    </tr>\n",
              "    <tr>\n",
              "      <th>Phone number</th>\n",
              "      <td>Vedesh Emandi</td>\n",
              "      <td>Male</td>\n",
              "      <td>18.0</td>\n",
              "      <td>Vizag</td>\n",
              "      <td>9.703433e+09</td>\n",
              "    </tr>\n",
              "  </tbody>\n",
              "</table>\n",
              "</div>"
            ],
            "text/plain": [
              "                       Name Gender   Age Adress  Phone Number\n",
              "Age                    None   None   NaN   None           NaN\n",
              "Phone number  Vedesh Emandi   Male  18.0  Vizag  9.703433e+09"
            ]
          },
          "execution_count": 1,
          "metadata": {},
          "output_type": "execute_result"
        }
      ],
      "source": [
        "import pandas as pd\n",
        "df = pd.read_csv('C:/Users/vedes/OneDrive/Documents/Book3.csv')\n",
        "de = df.groupby([\"Phone number\",\"Age\"])\n",
        "de.first()"
      ]
    },
    {
      "cell_type": "code",
      "execution_count": null,
      "metadata": {
        "id": "qodIBZcd7Q4N",
        "outputId": "7d05b731-bfd1-43eb-e805-86db5adfbb36"
      },
      "outputs": [
        {
          "name": "stdout",
          "output_type": "stream",
          "text": [
            "               Name  Gender  Age Adress  Phone Number\n",
            "0     Vedesh Emandi    Male   18  Vizag    9703433344\n",
            "1       S J Meghana  Female   18  Vizag    9346055799\n",
            "2  Abhinav Damodara    Male   18  Vizag    9640025436\n",
            "3    Abhihith Naidu    Male   18  Vizag    8746209981\n",
            "4         P Hemanth    Male   18  Vizag    9723009821\n"
          ]
        }
      ],
      "source": [
        "import pandas as pd\n",
        "a = pd.read_csv('C:/Users/vedes/OneDrive/Documents/Book3.csv')\n",
        "print(a.head())"
      ]
    }
  ],
  "metadata": {
    "interpreter": {
      "hash": "4e4e1dfd4a88ec22da224fdf0bf9b1a97746024cdc98fdea31c5803ea1f25781"
    },
    "kernelspec": {
      "display_name": "Python 3.10.4 64-bit",
      "language": "python",
      "name": "python3"
    },
    "language_info": {
      "codemirror_mode": {
        "name": "ipython",
        "version": 3
      },
      "file_extension": ".py",
      "mimetype": "text/x-python",
      "name": "python",
      "nbconvert_exporter": "python",
      "pygments_lexer": "ipython3",
      "version": "3.10.4"
    },
    "orig_nbformat": 4,
    "colab": {
      "name": "Pandas.ipynb",
      "provenance": [],
      "include_colab_link": true
    }
  },
  "nbformat": 4,
  "nbformat_minor": 0
}
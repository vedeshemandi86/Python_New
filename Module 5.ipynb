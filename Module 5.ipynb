{
  "nbformat": 4,
  "nbformat_minor": 0,
  "metadata": {
    "colab": {
      "name": "My Space",
      "provenance": [],
      "collapsed_sections": [],
      "authorship_tag": "ABX9TyMnBxwi3ACQjIGrG4tAEm7c",
      "include_colab_link": true
    },
    "kernelspec": {
      "name": "python3",
      "display_name": "Python 3"
    },
    "language_info": {
      "name": "python"
    }
  },
  "cells": [
    {
      "cell_type": "markdown",
      "metadata": {
        "id": "view-in-github",
        "colab_type": "text"
      },
      "source": [
        "<a href=\"https://colab.research.google.com/github/vedeshemandi86/Python_New/blob/Module---5/Module%205.ipynb\" target=\"_parent\"><img src=\"https://colab.research.google.com/assets/colab-badge.svg\" alt=\"Open In Colab\"/></a>"
      ]
    },
    {
      "cell_type": "code",
      "execution_count": null,
      "metadata": {
        "colab": {
          "base_uri": "https://localhost:8080/"
        },
        "id": "tpEhpOzBKA59",
        "outputId": "acb4993f-2ad7-46b3-f93d-9241e104e5c6"
      },
      "outputs": [
        {
          "output_type": "stream",
          "name": "stdout",
          "text": [
            "YES! We have a match!\n"
          ]
        }
      ],
      "source": [
        "import re\n",
        "txt = \"It is raining out side\"\n",
        "x = re.search(\"raining\",txt)\n",
        "if x:\n",
        "  print(\"YES! We have a match!\")\n",
        "else:\n",
        "  print(\"No match\")"
      ]
    },
    {
      "cell_type": "code",
      "source": [
        "import re\n",
        "txt = \"It is raining out side\"\n",
        "x = re.search(\"^It.*side$\",txt)\n",
        "if x:\n",
        "  print(\"Yes it is in the statement x\")\n",
        "else:\n",
        "  print(\"NO Match\")"
      ],
      "metadata": {
        "colab": {
          "base_uri": "https://localhost:8080/"
        },
        "id": "dZ_YhnTaLOXn",
        "outputId": "22ffcb14-d8d9-43f1-b8c4-8802626009e6"
      },
      "execution_count": null,
      "outputs": [
        {
          "output_type": "stream",
          "name": "stdout",
          "text": [
            "Yes it is in the statement x\n"
          ]
        }
      ]
    },
    {
      "cell_type": "code",
      "source": [
        "import re\n",
        "txt = \"\"\"\n",
        "Never gonna love me but it's alright\n",
        "She think I'm a asshole\n",
        "She think I'm a player\n",
        "She keep running back though\n",
        "Only cause I pay up\n",
        "\"\"\"\n",
        "x = re.search(\"asshole\",txt)\n",
        "print(x)\n",
        "if x:\n",
        "  print(\"YES! We have a match!\")\n",
        "else:\n",
        "  print(\"No match\")"
      ],
      "metadata": {
        "colab": {
          "base_uri": "https://localhost:8080/"
        },
        "id": "5eloa52IL67A",
        "outputId": "f2fd565d-2263-49db-9dc3-7e9c2cf28c9e"
      },
      "execution_count": null,
      "outputs": [
        {
          "output_type": "stream",
          "name": "stdout",
          "text": [
            "<re.Match object; span=(54, 61), match='asshole'>\n",
            "YES! We have a match!\n"
          ]
        }
      ]
    },
    {
      "cell_type": "code",
      "source": [
        "import re\n",
        "txt = \"\"\"\n",
        "Never gonna love me but it's alright\n",
        "She think I'm a asshole\n",
        "She think I'm a player\n",
        "She keep running back though\n",
        "Only cause I pay up\n",
        "\"\"\"\n",
        "x = re.findall(\"[h-o]\",txt)\n",
        "print(x)"
      ],
      "metadata": {
        "colab": {
          "base_uri": "https://localhost:8080/"
        },
        "id": "Nom3QI_EOFcm",
        "outputId": "0daa5f4b-f34c-4417-c116-99d6231de477"
      },
      "execution_count": null,
      "outputs": [
        {
          "output_type": "stream",
          "name": "stdout",
          "text": [
            "['o', 'n', 'n', 'l', 'o', 'm', 'i', 'l', 'i', 'h', 'h', 'h', 'i', 'n', 'k', 'm', 'h', 'o', 'l', 'h', 'h', 'i', 'n', 'k', 'm', 'l', 'h', 'k', 'n', 'n', 'i', 'n', 'k', 'h', 'o', 'h', 'n', 'l']\n"
          ]
        }
      ]
    },
    {
      "cell_type": "code",
      "source": [
        "import re\n",
        "txt = \"\"\"\n",
        "Never gonna love me but it's alright\n",
        "She think I'm a asshole\n",
        "She think I'm a player\n",
        "She keep running back though\n",
        "Only cause I pay up\n",
        "\"\"\"\n",
        "x = re.findall(\"a..hole\",txt)\n",
        "print(x)"
      ],
      "metadata": {
        "colab": {
          "base_uri": "https://localhost:8080/"
        },
        "id": "cHmbFVbUOrIG",
        "outputId": "3c2f1bea-6bf4-4dbd-dd9e-d83e0ba26b1b"
      },
      "execution_count": null,
      "outputs": [
        {
          "output_type": "stream",
          "name": "stdout",
          "text": [
            "['asshole']\n"
          ]
        }
      ]
    },
    {
      "cell_type": "code",
      "source": [
        "import re\n",
        "txt = \"\"\"Never gonna love me but it's alright\n",
        "She think I'm a asshole\n",
        "She think I'm a player\n",
        "She keep running back though\n",
        "Only cause I pay up\"\"\"\n",
        "\n",
        "x = re.search(\"^Never\",txt)\n",
        "if x:\n",
        "  print(\"YES! We have a match!\")\n",
        "else:\n",
        "  print(\"No match\")"
      ],
      "metadata": {
        "colab": {
          "base_uri": "https://localhost:8080/"
        },
        "id": "885hgcl6PNke",
        "outputId": "5ce24308-456e-4f26-e736-eefccaf89b49"
      },
      "execution_count": null,
      "outputs": [
        {
          "output_type": "stream",
          "name": "stdout",
          "text": [
            "YES! We have a match!\n"
          ]
        }
      ]
    },
    {
      "cell_type": "code",
      "source": [
        "import re\n",
        "txt = \"\"\"Never gonna love me but it's alright\n",
        "She think I'm a asshole\n",
        "She think I'm a player\n",
        "She keep running back though\n",
        "Only cause I pay up\"\"\"\n",
        "\n",
        "x = re.search(\"up$\",txt)\n",
        "if x:\n",
        "  print(\"YES! We have a match!\")\n",
        "else:\n",
        "  print(\"No match\")"
      ],
      "metadata": {
        "colab": {
          "base_uri": "https://localhost:8080/"
        },
        "id": "OmUypRKCQXxW",
        "outputId": "20893778-e7b2-4894-afe5-7ac3a9c7ed2d"
      },
      "execution_count": null,
      "outputs": [
        {
          "output_type": "stream",
          "name": "stdout",
          "text": [
            "YES! We have a match!\n"
          ]
        }
      ]
    },
    {
      "cell_type": "code",
      "source": [
        "import re\n",
        "txt = \"\"\"Never gonna love me but it's alright\n",
        "She think I'm a asshole\n",
        "She think I'm a player\n",
        "She keep running back though\n",
        "Only cause I pay up\"\"\"\n",
        "\n",
        "x = re.findall(\"I.+le\",txt)\n",
        "print(x)"
      ],
      "metadata": {
        "colab": {
          "base_uri": "https://localhost:8080/"
        },
        "id": "wrC_6neGQ5mO",
        "outputId": "789251c3-9916-4c16-a788-232d0a7ea18c"
      },
      "execution_count": null,
      "outputs": [
        {
          "output_type": "stream",
          "name": "stdout",
          "text": [
            "[\"I'm a asshole\"]\n"
          ]
        }
      ]
    },
    {
      "cell_type": "code",
      "source": [
        "import re\n",
        "txt = \"\"\"Never gonna love me but it's alright\n",
        "She think I'm a asshole\n",
        "She think I'm a player\n",
        "She keep running back though\n",
        "Only cause I pay up\"\"\"\n",
        "\n",
        "x = re.findall(\"a.*er\",txt)\n",
        "print(x)"
      ],
      "metadata": {
        "colab": {
          "base_uri": "https://localhost:8080/"
        },
        "id": "YrsR99IrRoOf",
        "outputId": "9abaa751-37dd-4afc-f110-a739ca777fcf"
      },
      "execution_count": null,
      "outputs": [
        {
          "output_type": "stream",
          "name": "stdout",
          "text": [
            "['a player']\n"
          ]
        }
      ]
    },
    {
      "cell_type": "code",
      "source": [
        "import re\n",
        "txt = \"\"\"Never gonna love me but it's alright\n",
        "She think I'm a asshole\n",
        "She think I'm a player\n",
        "She keep running back though\n",
        "Only cause I pay up\"\"\"\n",
        "\n",
        "x = re.findall(\"lo.?e\",txt)\n",
        "print(x)"
      ],
      "metadata": {
        "colab": {
          "base_uri": "https://localhost:8080/"
        },
        "id": "c5sJpAaISPA_",
        "outputId": "8c2a5665-3cc7-471b-ba7c-bbc58ea09161"
      },
      "execution_count": null,
      "outputs": [
        {
          "output_type": "stream",
          "name": "stdout",
          "text": [
            "['love']\n"
          ]
        }
      ]
    },
    {
      "cell_type": "code",
      "source": [
        "import re\n",
        "txt = \"\"\"Never gonna love me but it's alright\n",
        "She think I'm a asshole\n",
        "She think I'm a player\n",
        "She keep running back though\n",
        "Only cause I pay up\"\"\"\n",
        "\n",
        "x = re.findall(\"N.{35}\",txt)\n",
        "print(x)    "
      ],
      "metadata": {
        "colab": {
          "base_uri": "https://localhost:8080/"
        },
        "id": "-ZimddEcTGq1",
        "outputId": "b4d87ce1-896c-482c-df72-334630149b21"
      },
      "execution_count": null,
      "outputs": [
        {
          "output_type": "stream",
          "name": "stdout",
          "text": [
            "[\"Never gonna love me but it's alright\"]\n"
          ]
        }
      ]
    },
    {
      "cell_type": "code",
      "source": [
        ""
      ],
      "metadata": {
        "id": "xcK-9k8r1Max"
      },
      "execution_count": null,
      "outputs": []
    }
  ]
}
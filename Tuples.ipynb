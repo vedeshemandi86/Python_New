{
  "nbformat": 4,
  "nbformat_minor": 0,
  "metadata": {
    "colab": {
      "name": "Tuples",
      "provenance": [],
      "collapsed_sections": [],
      "authorship_tag": "ABX9TyOxxngoOQXYSEpxwkI9q4LE",
      "include_colab_link": true
    },
    "kernelspec": {
      "name": "python3",
      "display_name": "Python 3"
    },
    "language_info": {
      "name": "python"
    }
  },
  "cells": [
    {
      "cell_type": "markdown",
      "metadata": {
        "id": "view-in-github",
        "colab_type": "text"
      },
      "source": [
        "<a href=\"https://colab.research.google.com/github/vedeshemandi86/Python_New/blob/module-2/Tuples.ipynb\" target=\"_parent\"><img src=\"https://colab.research.google.com/assets/colab-badge.svg\" alt=\"Open In Colab\"/></a>"
      ]
    },
    {
      "cell_type": "code",
      "execution_count": null,
      "metadata": {
        "colab": {
          "base_uri": "https://localhost:8080/"
        },
        "id": "d3y-XrJiZyHh",
        "outputId": "76f562ca-5cbf-4ee4-af12-b24285e39b8d"
      },
      "outputs": [
        {
          "output_type": "stream",
          "name": "stdout",
          "text": [
            "('apple', 'banana', 'cherry')\n"
          ]
        }
      ],
      "source": [
        "fruits = (\"apple\", \"banana\", \"cherry\")\n",
        "print(fruits)"
      ]
    },
    {
      "cell_type": "code",
      "source": [
        "fruits = (\"apple\", \"banana\", \"cherry\", \"apple\", \"cherry\")\n",
        "print(fruits)"
      ],
      "metadata": {
        "colab": {
          "base_uri": "https://localhost:8080/"
        },
        "id": "SZIfQ2Eca2V7",
        "outputId": "baaf2860-4b85-47e9-e4a1-758181ba9b7d"
      },
      "execution_count": null,
      "outputs": [
        {
          "output_type": "stream",
          "name": "stdout",
          "text": [
            "('apple', 'banana', 'cherry', 'apple', 'cherry')\n"
          ]
        }
      ]
    },
    {
      "cell_type": "code",
      "source": [
        "fruits = (\"apple\", \"banana\", \"cherry\")\n",
        "print(len(fruits))"
      ],
      "metadata": {
        "colab": {
          "base_uri": "https://localhost:8080/"
        },
        "id": "TdJN_L_AbOfM",
        "outputId": "9e88ebf8-5594-44b7-af28-45031d5e6636"
      },
      "execution_count": null,
      "outputs": [
        {
          "output_type": "stream",
          "name": "stdout",
          "text": [
            "3\n"
          ]
        }
      ]
    },
    {
      "cell_type": "code",
      "source": [
        "fruits = (\"apple\",)\n",
        "print(type(fruits))\n",
        "\n",
        "#NOT a tuple\n",
        "fruits = (\"apple\")\n",
        "print(type(fruits))\n"
      ],
      "metadata": {
        "colab": {
          "base_uri": "https://localhost:8080/"
        },
        "id": "rscfy2hObgM7",
        "outputId": "bb18c09e-1ba5-4065-a401-ee833f646242"
      },
      "execution_count": null,
      "outputs": [
        {
          "output_type": "stream",
          "name": "stdout",
          "text": [
            "<class 'tuple'>\n",
            "<class 'str'>\n"
          ]
        }
      ]
    },
    {
      "cell_type": "code",
      "source": [
        "t1 = (\"apple\", \"banana\", \"cherry\")\n",
        "t2 = (1, 5, 3, 7, 9)\n",
        "t3 = (True, False, False)"
      ],
      "metadata": {
        "id": "CUMGyuzMbsi7"
      },
      "execution_count": null,
      "outputs": []
    },
    {
      "cell_type": "code",
      "source": [
        "t1 = (\"abc\", 34, True, 40, \"male\")\n",
        "print(t1)"
      ],
      "metadata": {
        "colab": {
          "base_uri": "https://localhost:8080/"
        },
        "id": "qtP6cIrAb8Cr",
        "outputId": "4ead561a-d764-4403-bbd2-83038531e154"
      },
      "execution_count": null,
      "outputs": [
        {
          "output_type": "stream",
          "name": "stdout",
          "text": [
            "('abc', 34, True, 40, 'male')\n"
          ]
        }
      ]
    },
    {
      "cell_type": "code",
      "source": [
        "fruits = (\"apple\", \"banana\", \"cherry\")\n",
        "print(type(fruits))"
      ],
      "metadata": {
        "colab": {
          "base_uri": "https://localhost:8080/"
        },
        "id": "JUd9zhrwca-L",
        "outputId": "06a24d6e-d12d-4a86-ef5e-1d78c14aab4c"
      },
      "execution_count": null,
      "outputs": [
        {
          "output_type": "stream",
          "name": "stdout",
          "text": [
            "<class 'tuple'>\n"
          ]
        }
      ]
    },
    {
      "cell_type": "code",
      "source": [
        "fruits = tuple((\"apple\", \"banana\", \"cherry\")) # note the double round-brackets\n",
        "print(fruits)"
      ],
      "metadata": {
        "colab": {
          "base_uri": "https://localhost:8080/"
        },
        "id": "14IaHHkZctv7",
        "outputId": "a852ada5-b6f9-4f8c-e3e0-09ec566a9039"
      },
      "execution_count": null,
      "outputs": [
        {
          "output_type": "stream",
          "name": "stdout",
          "text": [
            "('apple', 'banana', 'cherry')\n"
          ]
        }
      ]
    },
    {
      "cell_type": "markdown",
      "source": [
        "Check if item exists"
      ],
      "metadata": {
        "id": "o9nRwfGbwGPB"
      }
    },
    {
      "cell_type": "code",
      "source": [
        "fruits = tuple((\"apple\", \"banana\", \"cherry\"))\n",
        "if 'kiwi' in fruits:\n",
        "  print(\"Yes, 'apple' is in the list\")\n",
        "else:\n",
        "  print('The item is not in the list')  "
      ],
      "metadata": {
        "colab": {
          "base_uri": "https://localhost:8080/"
        },
        "id": "kI98FwQ5wJxZ",
        "outputId": "3cd818d9-8446-44a1-eb7c-4fcd1fa6f7a6"
      },
      "execution_count": null,
      "outputs": [
        {
          "output_type": "stream",
          "name": "stdout",
          "text": [
            "The item is not in the list\n"
          ]
        }
      ]
    },
    {
      "cell_type": "code",
      "source": [
        "fruits = ('apple','banana','kiwi','mango','orange','tomato')\n",
        "print(fruits[1:5])"
      ],
      "metadata": {
        "colab": {
          "base_uri": "https://localhost:8080/"
        },
        "id": "kpsaW8AVxEsw",
        "outputId": "7ccfd1dc-466a-48d8-e0be-74eb36b86ffd"
      },
      "execution_count": null,
      "outputs": [
        {
          "output_type": "stream",
          "name": "stdout",
          "text": [
            "('banana', 'kiwi', 'mango', 'orange')\n"
          ]
        }
      ]
    },
    {
      "cell_type": "code",
      "source": [
        "a = ('apple','banana','kiwi','mango','orange','tomato')\n",
        "b = list(a)\n",
        "b.append('blueberry')\n",
        "a = tuple(b)\n",
        "print(a)"
      ],
      "metadata": {
        "colab": {
          "base_uri": "https://localhost:8080/"
        },
        "id": "nJW8FdGtynae",
        "outputId": "fceed34d-9804-44d1-c87c-69f3b4700bfc"
      },
      "execution_count": null,
      "outputs": [
        {
          "output_type": "stream",
          "name": "stdout",
          "text": [
            "('apple', 'banana', 'kiwi', 'mango', 'orange', 'tomato', 'blueberry')\n"
          ]
        }
      ]
    },
    {
      "cell_type": "code",
      "source": [
        "a = ('apple','banana','kiwi','mango','orange')\n",
        "b = ('tomato',)\n",
        "a += b\n",
        "print(a)"
      ],
      "metadata": {
        "colab": {
          "base_uri": "https://localhost:8080/"
        },
        "id": "KzofaGme0S1v",
        "outputId": "db820fd8-c8a1-4090-e6f8-954b4c86149b"
      },
      "execution_count": null,
      "outputs": [
        {
          "output_type": "stream",
          "name": "stdout",
          "text": [
            "('apple', 'banana', 'kiwi', 'mango', 'orange', 'tomato')\n"
          ]
        }
      ]
    },
    {
      "cell_type": "code",
      "source": [
        "a = ('apple','banana','kiwi','mango','orange','tomato')\n",
        "b = list(a)\n",
        "b.remove('tomato')\n",
        "a = tuple(b)\n",
        "print(a)"
      ],
      "metadata": {
        "colab": {
          "base_uri": "https://localhost:8080/"
        },
        "id": "HHDApVhN1xh4",
        "outputId": "b8186a78-e9a3-41b0-e740-89b3e23ae953"
      },
      "execution_count": null,
      "outputs": [
        {
          "output_type": "stream",
          "name": "stdout",
          "text": [
            "('apple', 'banana', 'kiwi', 'mango', 'orange')\n"
          ]
        }
      ]
    },
    {
      "cell_type": "code",
      "source": [
        "fruits = ('apple','banana','kiwi')\n",
        "(vedesh,bujji,abhi) = fruits\n",
        "print(vedesh)\n",
        "print(bujji)\n",
        "print(abhi)"
      ],
      "metadata": {
        "colab": {
          "base_uri": "https://localhost:8080/"
        },
        "id": "g6v_omkR4apO",
        "outputId": "48c945a1-c96f-4dfe-80d9-ca29c7634b28"
      },
      "execution_count": null,
      "outputs": [
        {
          "output_type": "stream",
          "name": "stdout",
          "text": [
            "apple\n",
            "banana\n",
            "kiwi\n"
          ]
        }
      ]
    },
    {
      "cell_type": "code",
      "source": [
        "fruits = ('apple','banana','kiwi','mango','orange','tomato')\n",
        "(vedesh,bujji,*abhi) = fruits\n",
        "print(vedesh)\n",
        "print(bujji)\n",
        "print(abhi)"
      ],
      "metadata": {
        "colab": {
          "base_uri": "https://localhost:8080/"
        },
        "id": "BUfBQWHD9Azs",
        "outputId": "ea075edf-d713-492d-93ea-1b620efb0167"
      },
      "execution_count": null,
      "outputs": [
        {
          "output_type": "stream",
          "name": "stdout",
          "text": [
            "apple\n",
            "banana\n",
            "['kiwi', 'mango', 'orange', 'tomato']\n"
          ]
        }
      ]
    },
    {
      "cell_type": "code",
      "source": [
        "fruits = ('apple','banana','kiwi','mango','orange','tomato')\n",
        "(*vedesh,bujji,abhi) = fruits\n",
        "print(vedesh)\n",
        "print(bujji)\n",
        "print(abhi)"
      ],
      "metadata": {
        "colab": {
          "base_uri": "https://localhost:8080/"
        },
        "id": "2qD8fiAA-dO0",
        "outputId": "c05220cd-65e1-4c7f-dcb6-fff115d3be45"
      },
      "execution_count": null,
      "outputs": [
        {
          "output_type": "stream",
          "name": "stdout",
          "text": [
            "['apple', 'banana', 'kiwi', 'mango']\n",
            "orange\n",
            "tomato\n"
          ]
        }
      ]
    }
  ]
}
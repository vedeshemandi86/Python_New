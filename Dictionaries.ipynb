{
  "nbformat": 4,
  "nbformat_minor": 0,
  "metadata": {
    "colab": {
      "name": "Dictionaries",
      "provenance": [],
      "collapsed_sections": [],
      "authorship_tag": "ABX9TyNshDzPElg7lTQXkVWPd4Ti",
      "include_colab_link": true
    },
    "kernelspec": {
      "name": "python3",
      "display_name": "Python 3"
    },
    "language_info": {
      "name": "python"
    }
  },
  "cells": [
    {
      "cell_type": "markdown",
      "metadata": {
        "id": "view-in-github",
        "colab_type": "text"
      },
      "source": [
        "<a href=\"https://colab.research.google.com/github/vedeshemandi86/Python_New/blob/module-2/Dictionaries.ipynb\" target=\"_parent\"><img src=\"https://colab.research.google.com/assets/colab-badge.svg\" alt=\"Open In Colab\"/></a>"
      ]
    },
    {
      "cell_type": "markdown",
      "source": [
        "Dictionary Items\n"
      ],
      "metadata": {
        "id": "VhLTO26edvxX"
      }
    },
    {
      "cell_type": "code",
      "execution_count": null,
      "metadata": {
        "id": "dp2wYwknZk_u",
        "colab": {
          "base_uri": "https://localhost:8080/"
        },
        "outputId": "af300de1-7338-4a45-803e-26fba1c357a8"
      },
      "outputs": [
        {
          "output_type": "stream",
          "name": "stdout",
          "text": [
            "{'brand': 'audi', 'model': 'etron', 'year': 2019}\n",
            "<class 'dict'>\n"
          ]
        }
      ],
      "source": [
        "dic = {\n",
        "  \"brand\": \"audi\",\n",
        "  \"model\": \"etron\",\n",
        "  \"year\": 2019\n",
        "}\n",
        "print(dic)\n",
        "print(type(dic))"
      ]
    },
    {
      "cell_type": "code",
      "source": [
        "  dic = {\n",
        "  \"brand\": \"audi\",\n",
        "  \"model\": \"etron\",\n",
        "  \"year\": 2019\n",
        "}\n",
        "print(dic[\"brand\"])"
      ],
      "metadata": {
        "colab": {
          "base_uri": "https://localhost:8080/"
        },
        "id": "SUmK0KxmCZ7t",
        "outputId": "a5527587-eb9e-4c65-939b-f2501e42eefd"
      },
      "execution_count": null,
      "outputs": [
        {
          "output_type": "stream",
          "name": "stdout",
          "text": [
            "audi\n"
          ]
        }
      ]
    },
    {
      "cell_type": "markdown",
      "source": [
        "Dictionary Items - Data Types\n"
      ],
      "metadata": {
        "id": "V8Tu7cf4fF0a"
      }
    },
    {
      "cell_type": "code",
      "source": [
        "dic = {\n",
        "  \"brand\": \"audi\",\n",
        "  \"electric\": False,\n",
        "  \"year\": 2019,\n",
        "  \"colors\": [\"red\", \"white\", \"blue\"]\n",
        "}\n",
        "print(dic)"
      ],
      "metadata": {
        "colab": {
          "base_uri": "https://localhost:8080/"
        },
        "id": "E55HF0SdD4M-",
        "outputId": "1f51dabf-b10b-41ca-a1b6-bf49b5b5701d"
      },
      "execution_count": null,
      "outputs": [
        {
          "output_type": "stream",
          "name": "stdout",
          "text": [
            "{'brand': 'audi', 'electric': False, 'year': 2019, 'colors': ['red', 'white', 'blue']}\n"
          ]
        }
      ]
    },
    {
      "cell_type": "markdown",
      "source": [
        "Accessing Items\n",
        "\n"
      ],
      "metadata": {
        "id": "BwI5ZmlFd7hv"
      }
    },
    {
      "cell_type": "code",
      "source": [
        "dic = {\n",
        "  \"brand\": \"audi\",\n",
        "  \"model\": \"etron\",\n",
        "  \"year\": 2019\n",
        "}\n",
        "x = dic[\"model\"]\n",
        "x = dic.get(\"model\")\n",
        "x = dic.keys()\n",
        "x = dic.values()\n",
        "x = dic.items()\n",
        "print(x)"
      ],
      "metadata": {
        "colab": {
          "base_uri": "https://localhost:8080/"
        },
        "id": "fVqAvvcTEtI3",
        "outputId": "9e25d338-246c-4ad2-a8bb-e7d9cada52d3"
      },
      "execution_count": null,
      "outputs": [
        {
          "output_type": "stream",
          "name": "stdout",
          "text": [
            "dict_items([('brand', 'audi'), ('model', 'etron'), ('year', 2019)])\n"
          ]
        }
      ]
    },
    {
      "cell_type": "code",
      "source": [
        "car = {\n",
        "\"brand\": \"audi\",\n",
        "\"model\": \"etron\",\n",
        "\"year\": 2019\n",
        "}\n",
        "x = car.keys()\n",
        "print(x) \n",
        "car[\"color\"] = \"white\"\n",
        "print(x) "
      ],
      "metadata": {
        "colab": {
          "base_uri": "https://localhost:8080/"
        },
        "id": "jQbd-eNNE5r0",
        "outputId": "5686bb6e-cf1e-4457-eb67-7d15eeb8494f"
      },
      "execution_count": null,
      "outputs": [
        {
          "output_type": "stream",
          "name": "stdout",
          "text": [
            "dict_keys(['brand', 'model', 'year'])\n",
            "dict_keys(['brand', 'model', 'year', 'color'])\n"
          ]
        }
      ]
    },
    {
      "cell_type": "code",
      "source": [
        "car = {\n",
        "\"brand\": \"audi\",\n",
        "\"model\": \"etron\",\n",
        "\"year\": 2019\n",
        "}\n",
        "x = car.items()\n",
        "print(x) \n",
        "car[\"year\"] = 2020\n",
        "print(x) "
      ],
      "metadata": {
        "colab": {
          "base_uri": "https://localhost:8080/"
        },
        "id": "llTKe-bTFd8Q",
        "outputId": "f0cba982-c679-4ff2-8470-f0cbb9c587f4"
      },
      "execution_count": null,
      "outputs": [
        {
          "output_type": "stream",
          "name": "stdout",
          "text": [
            "dict_items([('brand', 'audi'), ('model', 'etron'), ('year', 2019)])\n",
            "dict_items([('brand', 'audi'), ('model', 'etron'), ('year', 2020)])\n"
          ]
        }
      ]
    },
    {
      "cell_type": "code",
      "source": [
        "dic = {\n",
        "  \"brand\": \"audi\",\n",
        "  \"model\": \"etron\",\n",
        "  \"year\": 2019\n",
        "}\n",
        "if \"model\" in dic:\n",
        "  print(\"Yes, 'model' is one of the keys in the dic dictionary\")\n"
      ],
      "metadata": {
        "colab": {
          "base_uri": "https://localhost:8080/"
        },
        "id": "Rmbum8QoGBg5",
        "outputId": "f13d00ac-adf1-41b5-e782-62195de821a4"
      },
      "execution_count": null,
      "outputs": [
        {
          "output_type": "stream",
          "name": "stdout",
          "text": [
            "Yes, 'model' is one of the keys in the dic dictionary\n"
          ]
        }
      ]
    },
    {
      "cell_type": "markdown",
      "source": [
        "Change Values\n"
      ],
      "metadata": {
        "id": "dLn1eE39fdPk"
      }
    },
    {
      "cell_type": "code",
      "source": [
        "dic = {\n",
        "  \"brand\": \"audi\",\n",
        "  \"model\": \"etron\",\n",
        "  \"year\": 2019\n",
        "}\n",
        "dic[\"year\"] = 2021\n",
        "print(dic)"
      ],
      "metadata": {
        "colab": {
          "base_uri": "https://localhost:8080/"
        },
        "id": "pjxSkcmAGM8o",
        "outputId": "821cc5be-2157-4d9f-dffd-20dd3cb7d047"
      },
      "execution_count": null,
      "outputs": [
        {
          "output_type": "stream",
          "name": "stdout",
          "text": [
            "{'brand': 'audi', 'model': 'etron', 'year': 2021}\n"
          ]
        }
      ]
    },
    {
      "cell_type": "markdown",
      "source": [
        "Update Dictionary\n"
      ],
      "metadata": {
        "id": "oKQkZGo9fjIQ"
      }
    },
    {
      "cell_type": "code",
      "source": [
        "dic = {\n",
        "  \"brand\": \"audi\",\n",
        "  \"model\": \"etron\",\n",
        "  \"year\": 2019\n",
        "}\n",
        "dic.update({\"year\": 2021})\n",
        "print(dic)"
      ],
      "metadata": {
        "colab": {
          "base_uri": "https://localhost:8080/"
        },
        "id": "ogkhq1XPGb3l",
        "outputId": "d2d36841-25ac-4894-bc47-79bb4b3f4faf"
      },
      "execution_count": null,
      "outputs": [
        {
          "output_type": "stream",
          "name": "stdout",
          "text": [
            "{'brand': 'audi', 'model': 'etron', 'year': 2021}\n"
          ]
        }
      ]
    },
    {
      "cell_type": "markdown",
      "source": [
        "Adding Items\n"
      ],
      "metadata": {
        "id": "M9-cJJ5YfoZG"
      }
    },
    {
      "cell_type": "code",
      "source": [
        "dic = {\n",
        "  \"brand\": \"audi\",\n",
        "  \"model\": \"etron\",\n",
        "  \"year\": 2019\n",
        "}\n",
        "dic[\"color\"] = \"red\"\n",
        "print(dic)"
      ],
      "metadata": {
        "colab": {
          "base_uri": "https://localhost:8080/"
        },
        "id": "ixQBl4dPGqmi",
        "outputId": "1279f002-a121-4f96-cd8c-95847e6cf1eb"
      },
      "execution_count": null,
      "outputs": [
        {
          "output_type": "stream",
          "name": "stdout",
          "text": [
            "{'brand': 'audi', 'model': 'etron', 'year': 2019, 'color': 'red'}\n"
          ]
        }
      ]
    },
    {
      "cell_type": "markdown",
      "source": [
        "Update Dictionary\n"
      ],
      "metadata": {
        "id": "vvqFHOXDfrcw"
      }
    },
    {
      "cell_type": "code",
      "source": [
        "dic = {\n",
        "  \"brand\": \"audi\",\n",
        "  \"model\": \"etron\",\n",
        "  \"year\": 2019\n",
        "}\n",
        "dic.update({\"color\": \"red\"})\n",
        "print(dic)"
      ],
      "metadata": {
        "colab": {
          "base_uri": "https://localhost:8080/"
        },
        "id": "Bh9ZtgWbG1HX",
        "outputId": "7863fb52-5935-4243-9adb-478b66ccb608"
      },
      "execution_count": null,
      "outputs": [
        {
          "output_type": "stream",
          "name": "stdout",
          "text": [
            "{'brand': 'audi', 'model': 'etron', 'year': 2019, 'color': 'red'}\n"
          ]
        }
      ]
    },
    {
      "cell_type": "markdown",
      "source": [
        "Removing Items\n"
      ],
      "metadata": {
        "id": "SNwxDmY0fuZR"
      }
    },
    {
      "cell_type": "code",
      "source": [
        "dic = {\n",
        "  \"brand\": \"audi\",\n",
        "  \"model\": \"etron\",\n",
        "  \"year\": 2019\n",
        "}\n",
        "dic.pop(\"model\")\n",
        "print(dic)"
      ],
      "metadata": {
        "colab": {
          "base_uri": "https://localhost:8080/"
        },
        "id": "zIFwBfWAKiXT",
        "outputId": "21fd692f-2945-48ed-893b-50e193a0ada8"
      },
      "execution_count": null,
      "outputs": [
        {
          "output_type": "stream",
          "name": "stdout",
          "text": [
            "{'brand': 'audi', 'year': 2019}\n"
          ]
        }
      ]
    },
    {
      "cell_type": "markdown",
      "source": [
        ""
      ],
      "metadata": {
        "id": "NJnQ26G3fyk5"
      }
    },
    {
      "cell_type": "code",
      "source": [
        "dic = {\n",
        "  \"brand\": \"audi\",\n",
        "  \"model\": \"etron\",\n",
        "  \"year\": 2019\n",
        "}\n",
        "dic.popitem()\n",
        "print(dic)"
      ],
      "metadata": {
        "colab": {
          "base_uri": "https://localhost:8080/"
        },
        "id": "mj8qxfA-Kpp-",
        "outputId": "2361f48a-aab7-419f-a188-b45802cdad6a"
      },
      "execution_count": null,
      "outputs": [
        {
          "output_type": "stream",
          "name": "stdout",
          "text": [
            "{'brand': 'audi', 'model': 'etron'}\n"
          ]
        }
      ]
    },
    {
      "cell_type": "code",
      "source": [
        "dic = {\n",
        "  \"brand\": \"audi\",\n",
        "  \"model\": \"etron\",\n",
        "  \"year\": 2019\n",
        "}\n",
        "del dic[\"model\"]\n",
        "print(dic)\n"
      ],
      "metadata": {
        "colab": {
          "base_uri": "https://localhost:8080/"
        },
        "id": "uC2m0qsZK5hN",
        "outputId": "5a3a1d28-f71c-4193-d772-5e80f9f23af6"
      },
      "execution_count": null,
      "outputs": [
        {
          "output_type": "stream",
          "name": "stdout",
          "text": [
            "{'brand': 'audi', 'year': 2019}\n"
          ]
        }
      ]
    },
    {
      "cell_type": "code",
      "source": [
        "dic = {\n",
        "  \"brand\": \"audi\",\n",
        "  \"model\": \"etron\",\n",
        "  \"year\": 2019\n",
        "}\n",
        "del dic\n",
        "print(dic)"
      ],
      "metadata": {
        "colab": {
          "base_uri": "https://localhost:8080/",
          "height": 200
        },
        "id": "E5QMAO8NLMQk",
        "outputId": "9390e0b2-07ea-4ab6-9805-ee6cbd5f7acf"
      },
      "execution_count": null,
      "outputs": [
        {
          "output_type": "error",
          "ename": "NameError",
          "evalue": "ignored",
          "traceback": [
            "\u001b[0;31m---------------------------------------------------------------------------\u001b[0m",
            "\u001b[0;31mNameError\u001b[0m                                 Traceback (most recent call last)",
            "\u001b[0;32m<ipython-input-45-5cd72c14af91>\u001b[0m in \u001b[0;36m<module>\u001b[0;34m()\u001b[0m\n\u001b[1;32m      5\u001b[0m }\n\u001b[1;32m      6\u001b[0m \u001b[0;32mdel\u001b[0m \u001b[0mdic\u001b[0m\u001b[0;34m\u001b[0m\u001b[0;34m\u001b[0m\u001b[0m\n\u001b[0;32m----> 7\u001b[0;31m \u001b[0mprint\u001b[0m\u001b[0;34m(\u001b[0m\u001b[0mdic\u001b[0m\u001b[0;34m)\u001b[0m\u001b[0;34m\u001b[0m\u001b[0;34m\u001b[0m\u001b[0m\n\u001b[0m",
            "\u001b[0;31mNameError\u001b[0m: name 'dic' is not defined"
          ]
        }
      ]
    },
    {
      "cell_type": "code",
      "source": [
        "dic = {\n",
        "  \"brand\": \"audi\",\n",
        "  \"model\": \"etron\",\n",
        "  \"year\": 2019\n",
        "}\n",
        "dic.clear()\n",
        "print(dic)"
      ],
      "metadata": {
        "colab": {
          "base_uri": "https://localhost:8080/"
        },
        "id": "eHR5DzGwLbM0",
        "outputId": "592f02bc-eb26-42a7-d32b-87b67eb8ad31"
      },
      "execution_count": null,
      "outputs": [
        {
          "output_type": "stream",
          "name": "stdout",
          "text": [
            "{}\n"
          ]
        }
      ]
    },
    {
      "cell_type": "markdown",
      "source": [
        "Loop Through a Dictionary\n"
      ],
      "metadata": {
        "id": "FYGmApZ4f30f"
      }
    },
    {
      "cell_type": "code",
      "source": [
        "dic =\t{\n",
        "  \"brand\": \"audi\",\n",
        "  \"model\": \"etron\",\n",
        "  \"year\": 2019\n",
        "}\n",
        "for x in dic:\n",
        "  print(x)"
      ],
      "metadata": {
        "colab": {
          "base_uri": "https://localhost:8080/"
        },
        "id": "pIkxXiG9LpzL",
        "outputId": "425805a1-8bcc-41bc-bd16-ed85652f189b"
      },
      "execution_count": null,
      "outputs": [
        {
          "output_type": "stream",
          "name": "stdout",
          "text": [
            "brand\n",
            "model\n",
            "year\n"
          ]
        }
      ]
    },
    {
      "cell_type": "code",
      "source": [
        "dic =\t{\n",
        "  \"brand\": \"audi\",\n",
        "  \"model\": \"etron\",\n",
        "  \"year\": 2019\n",
        "}\n",
        "for x in dic:\n",
        "  print(dic[x])"
      ],
      "metadata": {
        "colab": {
          "base_uri": "https://localhost:8080/"
        },
        "id": "mUV7D5wSL_yw",
        "outputId": "58ba4c22-a542-471b-e096-b51558241cc4"
      },
      "execution_count": null,
      "outputs": [
        {
          "output_type": "stream",
          "name": "stdout",
          "text": [
            "audi\n",
            "etron\n",
            "2019\n"
          ]
        }
      ]
    },
    {
      "cell_type": "code",
      "source": [
        "dic =\t{\n",
        "  \"brand\": \"audi\",\n",
        "  \"model\": \"etron\",\n",
        "  \"year\": 2019\n",
        "}\n",
        "for x in dic.values():\n",
        "  print(x)\n"
      ],
      "metadata": {
        "colab": {
          "base_uri": "https://localhost:8080/"
        },
        "id": "O5Nveg6QMO5g",
        "outputId": "2a287302-254a-419e-d8f7-2519abaa98ec"
      },
      "execution_count": null,
      "outputs": [
        {
          "output_type": "stream",
          "name": "stdout",
          "text": [
            "audi\n",
            "etron\n",
            "2019\n"
          ]
        }
      ]
    },
    {
      "cell_type": "code",
      "source": [
        "dic =\t{\n",
        "  \"brand\": \"audi\",\n",
        "  \"model\": \"etron\",\n",
        "  \"year\": 2019\n",
        "}\n",
        "for x in dic.keys():\n",
        "  print(x)\n"
      ],
      "metadata": {
        "colab": {
          "base_uri": "https://localhost:8080/"
        },
        "id": "LLkLRWxMMfXf",
        "outputId": "cf810f52-0b9b-4d83-c2fd-411f6d10e5a5"
      },
      "execution_count": null,
      "outputs": [
        {
          "output_type": "stream",
          "name": "stdout",
          "text": [
            "brand\n",
            "model\n",
            "year\n"
          ]
        }
      ]
    },
    {
      "cell_type": "code",
      "source": [
        "dic =\t{\n",
        "  \"brand\": \"audi\",\n",
        "  \"model\": \"etron\",\n",
        "  \"year\": 2019\n",
        "}\n",
        "for x, y in dic.items():\n",
        "  print(x, y)\n"
      ],
      "metadata": {
        "colab": {
          "base_uri": "https://localhost:8080/"
        },
        "id": "s5u6cCnyMykS",
        "outputId": "7a01d027-0c6b-4af0-b814-25763ad5dd8e"
      },
      "execution_count": null,
      "outputs": [
        {
          "output_type": "stream",
          "name": "stdout",
          "text": [
            "brand audi\n",
            "model etron\n",
            "year 2019\n"
          ]
        }
      ]
    },
    {
      "cell_type": "markdown",
      "source": [
        "Copy a Dictionary\n"
      ],
      "metadata": {
        "id": "2NEJGeZMf9gL"
      }
    },
    {
      "cell_type": "code",
      "source": [
        "dic = {\n",
        "  \"brand\": \"audi\",\n",
        "  \"model\": \"etron\",\n",
        "  \"year\": 2019\n",
        "}\n",
        "mydict = dic.copy()\n",
        "print(mydict)"
      ],
      "metadata": {
        "colab": {
          "base_uri": "https://localhost:8080/"
        },
        "id": "YmsBfNmiNFW2",
        "outputId": "105c5e2e-c983-40b5-c7da-74fc49cb24ee"
      },
      "execution_count": null,
      "outputs": [
        {
          "output_type": "stream",
          "name": "stdout",
          "text": [
            "{'brand': 'audi', 'model': 'etron', 'year': 2019}\n"
          ]
        }
      ]
    },
    {
      "cell_type": "code",
      "source": [
        "dic = {\n",
        "  \"brand\": \"audi\",\n",
        "  \"model\": \"etron\",\n",
        "  \"year\": 2019\n",
        "}\n",
        "mydict = dict(dic)\n",
        "print(mydict)"
      ],
      "metadata": {
        "colab": {
          "base_uri": "https://localhost:8080/"
        },
        "id": "TeviEGabNV2X",
        "outputId": "85c30701-7db6-46e8-8cf9-d00525f757bc"
      },
      "execution_count": null,
      "outputs": [
        {
          "output_type": "stream",
          "name": "stdout",
          "text": [
            "{'brand': 'audi', 'model': 'etron', 'year': 2019}\n"
          ]
        }
      ]
    },
    {
      "cell_type": "markdown",
      "source": [
        "Nested Dictionaries\n"
      ],
      "metadata": {
        "id": "atJjkVX3gBPB"
      }
    },
    {
      "cell_type": "code",
      "source": [
        "family = {\n",
        "  \"child1\" : {\n",
        "    \"name\" : \"vedesh\",\n",
        "    \"year\" : 2004\n",
        "  },\n",
        "  \"child2\" : {\n",
        "    \"name\" : \"thanu\",\n",
        "    \"year\" : 2007\n",
        "  },\n",
        "  \"child3\" : {\n",
        "    \"name\" : \"sohan\",\n",
        "    \"year\" : 2011\n",
        "  }\n",
        "}\n",
        "print(family)\n"
      ],
      "metadata": {
        "colab": {
          "base_uri": "https://localhost:8080/"
        },
        "id": "GPgQxUKqOn-2",
        "outputId": "50f340f0-0757-46ab-ee59-44f3cd1d1c05"
      },
      "execution_count": null,
      "outputs": [
        {
          "output_type": "stream",
          "name": "stdout",
          "text": [
            "{'child1': {'name': 'vedesh', 'year': 2004}, 'child2': {'name': 'thanu', 'year': 2007}, 'child3': {'name': 'sohan', 'year': 2011}}\n"
          ]
        }
      ]
    },
    {
      "cell_type": "code",
      "source": [
        "child1 = {\n",
        "  \"name\" : \"vedesh\",\n",
        "  \"year\" : 2004\n",
        "}\n",
        "child2 = {\n",
        "  \"name\" : \"thannu\",\n",
        "  \"year\" : 2007\n",
        "}\n",
        "child3 = {\n",
        "  \"name\" : \"sohan\",\n",
        "  \"year\" : 2011\n",
        "}\n",
        "\n",
        "family = {\n",
        "  \"child1\" : child1,\n",
        "  \"child2\" : child2,\n",
        "  \"child3\" : child3\n",
        "}\n",
        "print(family)\n"
      ],
      "metadata": {
        "colab": {
          "base_uri": "https://localhost:8080/"
        },
        "id": "vpoFdSU5OyVE",
        "outputId": "3e5344e9-82f3-4b54-ff65-5412f0c57243"
      },
      "execution_count": null,
      "outputs": [
        {
          "output_type": "stream",
          "name": "stdout",
          "text": [
            "{'child1': {'name': 'vedesh', 'year': 2004}, 'child2': {'name': 'thannu', 'year': 2007}, 'child3': {'name': 'sohan', 'year': 2011}}\n"
          ]
        }
      ]
    },
    {
      "cell_type": "code",
      "source": [
        "list1 = [1, 3, 5, 7, 9]\n",
        "list2=[1, 2, 4, 6, 7, 8]\n",
        "diff_list1_list2 = list(set(list1) - set(list2))\n",
        "diff_list2_list1 = list(set(list2) - set(list1))\n",
        "total_diff = diff_list1_list2 + diff_list2_list1\n",
        "print(total_diff)"
      ],
      "metadata": {
        "colab": {
          "base_uri": "https://localhost:8080/"
        },
        "id": "SvVuUeT7lu2y",
        "outputId": "7c04d75e-8e32-4731-e48d-314cc152a14a"
      },
      "execution_count": null,
      "outputs": [
        {
          "output_type": "stream",
          "name": "stdout",
          "text": [
            "[9, 3, 5, 8, 2, 4, 6]\n"
          ]
        }
      ]
    }
  ]
}
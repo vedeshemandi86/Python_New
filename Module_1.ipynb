{
  "nbformat": 4,
  "nbformat_minor": 0,
  "metadata": {
    "colab": {
      "name": "Module 1",
      "provenance": [],
      "collapsed_sections": [],
      "authorship_tag": "ABX9TyPQCSRYnMpVEqFtTIoNBAkY",
      "include_colab_link": true
    },
    "kernelspec": {
      "name": "python3",
      "display_name": "Python 3"
    },
    "language_info": {
      "name": "python"
    }
  },
  "cells": [
    {
      "cell_type": "markdown",
      "metadata": {
        "id": "view-in-github",
        "colab_type": "text"
      },
      "source": [
        "<a href=\"https://colab.research.google.com/github/vedeshemandi86/Python_New/blob/module-1/Module_1.ipynb\" target=\"_parent\"><img src=\"https://colab.research.google.com/assets/colab-badge.svg\" alt=\"Open In Colab\"/></a>"
      ]
    },
    {
      "cell_type": "markdown",
      "source": [
        "#Module 1"
      ],
      "metadata": {
        "id": "HvIb80RldpwU"
      }
    },
    {
      "cell_type": "markdown",
      "source": [
        "Accept input from user and store it in variable and print the value."
      ],
      "metadata": {
        "id": "NQClsmnzd7qr"
      }
    },
    {
      "cell_type": "code",
      "source": [
        "a = int(input('enter a value'))\n",
        "b = int(input('enter a value'))\n",
        "print(a)\n",
        "print(b)"
      ],
      "metadata": {
        "colab": {
          "base_uri": "https://localhost:8080/"
        },
        "id": "xvUDvonUd9y8",
        "outputId": "c98cc84c-8cb0-4762-bcab-cba68a06b340"
      },
      "execution_count": null,
      "outputs": [
        {
          "output_type": "stream",
          "name": "stdout",
          "text": [
            "enter a value2\n",
            "enter a value2\n",
            "2\n",
            "2\n"
          ]
        }
      ]
    },
    {
      "cell_type": "markdown",
      "source": [
        "Use of print statements and use of (.format )for printing different data types.\n"
      ],
      "metadata": {
        "id": "0lT-KoqHeWgj"
      }
    },
    {
      "cell_type": "code",
      "source": [
        "vedesh = \"for name is {0} and I'm {1}\"\n",
        "print(vedesh.format(\"vedi\",18))"
      ],
      "metadata": {
        "colab": {
          "base_uri": "https://localhost:8080/"
        },
        "id": "Vzj4ZeNFebiL",
        "outputId": "f175773e-de87-40c9-8e86-43beb28940d2"
      },
      "execution_count": null,
      "outputs": [
        {
          "output_type": "stream",
          "name": "stdout",
          "text": [
            "for name is vedi and I'm 18\n"
          ]
        }
      ]
    },
    {
      "cell_type": "markdown",
      "source": [
        "Take 2 numbers as user input and add, multiply, divide, subtract, remainder and print\n",
        "the output (Same operations on floating point input as well)\n"
      ],
      "metadata": {
        "id": "y2tZVvbre3Wb"
      }
    },
    {
      "cell_type": "code",
      "source": [
        "a = 2\n",
        "b = 3\n",
        "add = a+b\n",
        "sub = a-b\n",
        "mul = a*b\n",
        "div = a/b\n",
        "rem = a%b\n",
        "print(add)\n",
        "print(sub)\n",
        "print(mul)\n",
        "print(div)\n",
        "print(rem)"
      ],
      "metadata": {
        "colab": {
          "base_uri": "https://localhost:8080/"
        },
        "id": "mPpjofHUe7yy",
        "outputId": "66d82b1c-f6d6-401f-ca79-4e3d16566554"
      },
      "execution_count": null,
      "outputs": [
        {
          "output_type": "stream",
          "name": "stdout",
          "text": [
            "5\n",
            "-1\n",
            "6\n",
            "0.6666666666666666\n",
            "2\n"
          ]
        }
      ]
    },
    {
      "cell_type": "markdown",
      "source": [
        "Conversion of one unit to another (such as hours to minutes, miles to km and etc)"
      ],
      "metadata": {
        "id": "YGtRVAn_gKL7"
      }
    },
    {
      "cell_type": "code",
      "source": [
        "meters = int(input(\"Please enter meters: \"))\n",
        "centimeters = meters * 100\n",
        "print(centimeters, \"Centimeters\")"
      ],
      "metadata": {
        "colab": {
          "base_uri": "https://localhost:8080/"
        },
        "id": "QJsTJPXrgP1r",
        "outputId": "26fd410c-98fe-4fe9-b1b8-3503317013cc"
      },
      "execution_count": null,
      "outputs": [
        {
          "output_type": "stream",
          "name": "stdout",
          "text": [
            "Please enter meters: 5\n",
            "500 Centimeters\n"
          ]
        }
      ]
    },
    {
      "cell_type": "markdown",
      "source": [
        "Usage of mathematical functions in python like math.ceil, floor, fabs, fmod, trunc,\n",
        "pow, sqrt etc."
      ],
      "metadata": {
        "id": "XmUutChnhI37"
      }
    },
    {
      "cell_type": "code",
      "source": [
        "import math\n",
        "mynum = 0.6989\n",
        "print(math.ceil(mynum))\n",
        "print(math.floor(mynum))\n",
        "print(math.fabs(mynum))\n",
        "print(math.fmod(mynum,1))\n",
        "print(math.trunc(mynum))\n",
        "print(math.pow(mynum,2))\n",
        "#print(math.sqrt(mynum))"
      ],
      "metadata": {
        "colab": {
          "base_uri": "https://localhost:8080/"
        },
        "id": "Z-DOjQgnhJlL",
        "outputId": "6a526090-08a0-4220-9374-bc9d46b56056"
      },
      "execution_count": null,
      "outputs": [
        {
          "output_type": "stream",
          "name": "stdout",
          "text": [
            "1\n",
            "0\n",
            "0.6989\n",
            "0.6989\n",
            "0\n",
            "0.48846121\n"
          ]
        }
      ]
    },
    {
      "cell_type": "markdown",
      "source": [
        "Building a mathematical calculator that can perform operations according to user input.\n",
        "Use decision making statement."
      ],
      "metadata": {
        "id": "EpqMv1_hkUW0"
      }
    },
    {
      "cell_type": "code",
      "source": [
        "def add(a, b):\n",
        "    return a + b\n",
        "def subtract(a, b):\n",
        "    return a - b\n",
        "def multiply(a, b):\n",
        "    return a * b\n",
        "def divide(a, b):\n",
        "    return a / b\n",
        "\n",
        "print(\"Select operation.\")\n",
        "print(\"1.Addition\")\n",
        "print(\"2.Subtraction\")\n",
        "print(\"3.Multiplication\")\n",
        "print(\"4.Division\")\n",
        "\n",
        "while True:\n",
        "    choice = input(\"Enter choice(1/2/3/4): \")\n",
        "    if choice in ('1', '2', '3', '4'):\n",
        "        num1 = float(input(\"Enter first number: \"))\n",
        "        num2 = float(input(\"Enter second number: \"))\n",
        "\n",
        "        if choice == '1':\n",
        "            print(num1, \"+\", num2, \"=\", add(num1, num2))\n",
        "\n",
        "        elif choice == '2':\n",
        "            print(num1, \"-\", num2, \"=\", subtract(num1, num2))\n",
        "\n",
        "        elif choice == '3':\n",
        "            print(num1, \"*\", num2, \"=\", multiply(num1, num2))\n",
        "\n",
        "        elif choice == '4':\n",
        "            print(num1, \"/\", num2, \"=\", divide(num1, num2))\n",
        "        next_calculation = input(\"Let's do next calculation? (yes/no): \")\n",
        "        if next_calculation == \"no\":\n",
        "          break\n",
        "    else:\n",
        "        print(\"Invalid Input\")"
      ],
      "metadata": {
        "colab": {
          "base_uri": "https://localhost:8080/"
        },
        "id": "rMIIqwiLNYnO",
        "outputId": "b86a8724-2b80-424a-c8cb-eb07e795a099"
      },
      "execution_count": null,
      "outputs": [
        {
          "name": "stdout",
          "output_type": "stream",
          "text": [
            "Select operation.\n",
            "1.Addition\n",
            "2.Subtraction\n",
            "3.Multiplication\n",
            "4.Division\n",
            "Enter choice(1/2/3/4): 3\n",
            "Enter first number: 5\n",
            "Enter second number: 19\n",
            "5.0 * 19.0 = 95.0\n",
            "Let's do next calculation? (yes/no): yes\n",
            "Enter choice(1/2/3/4): 2\n",
            "Enter first number: 55\n",
            "Enter second number: 10\n",
            "55.0 - 10.0 = 45.0\n",
            "Let's do next calculation? (yes/no): no\n"
          ]
        }
      ]
    },
    {
      "cell_type": "markdown",
      "source": [
        "Accepting 5 different subject marks from user and displaying the grade of the student\n"
      ],
      "metadata": {
        "id": "GjxRpFkDlmMs"
      }
    },
    {
      "cell_type": "code",
      "source": [
        "a = int(input('Math: '))\n",
        "b = int(input('CSEN: '))\n",
        "c = int(input('BEEE: '))\n",
        "d = int(input('CHEM: '))\n",
        "e = int(input('PHYS: '))\n",
        "total = a+b+c+d+e\n",
        "print(\"The total is \",total,\"/500\")\n",
        "if(total<=500 and total>400):\n",
        "  print('A grade')\n",
        "elif(total==400 and total>300):\n",
        "  print('B grade')\n",
        "elif(total==300 and total>200):\n",
        "  print('C grade')\n",
        "elif(total==200 and total>100):\n",
        "  print('D grade')\n",
        "elif(total<=100):\n",
        "  print('FAIL')\n",
        "else:\n",
        "  print('INVALID INPUT')"
      ],
      "metadata": {
        "colab": {
          "base_uri": "https://localhost:8080/"
        },
        "id": "6M20Dz0-lrYC",
        "outputId": "d77f915b-b7b0-4ddb-91cb-b24cd0ab9724"
      },
      "execution_count": null,
      "outputs": [
        {
          "output_type": "stream",
          "name": "stdout",
          "text": [
            "Math: 90\n",
            "CSEN: 95\n",
            "BEEE: 92\n",
            "CHEM: 96\n",
            "PHYS: 78\n",
            "The total is  451 /500\n",
            "A grade\n"
          ]
        }
      ]
    },
    {
      "cell_type": "markdown",
      "source": [
        "Printing all even numbers, odd numbers, count of even numbers, count of odd numbers\n",
        "within a given range"
      ],
      "metadata": {
        "id": "fsY-be0apOGE"
      }
    },
    {
      "cell_type": "code",
      "source": [
        "even_count, odd_count = 0, 0\n",
        "even_list = []\n",
        "odd_list = []\n",
        "n = int(input(\"Enter the start point of range: \"))\n",
        "m = int(input(\"Enter the end point of range: \"))\n",
        "# Using for loop\n",
        "for i in range(n,m+1):\n",
        "    if i % 2 == 0:\n",
        "        even_count += 1\n",
        "        even_list.append(i)\n",
        "    else:\n",
        "        odd_count += 1\n",
        "        odd_list.append(i)\n",
        "print(\"Total even nums in the range {0} to {1} is {2}\".format(n, m,even_count), \"and nums are\", even_list)\n",
        "print(\"Total odd nums in the range {0} to {1} is {2}\".format(n,m,odd_count), \"and nums are\", odd_list)"
      ],
      "metadata": {
        "id": "dsnQ4yS-vWeE",
        "colab": {
          "base_uri": "https://localhost:8080/"
        },
        "outputId": "9a63759e-48cc-4876-e6c8-1f65068eda2b"
      },
      "execution_count": null,
      "outputs": [
        {
          "output_type": "stream",
          "name": "stdout",
          "text": [
            "Enter the start point of range: 10\n",
            "Enter the end point of range: 110\n",
            "Total even nums in the range 10 to 110 is 51 and nums are [10, 12, 14, 16, 18, 20, 22, 24, 26, 28, 30, 32, 34, 36, 38, 40, 42, 44, 46, 48, 50, 52, 54, 56, 58, 60, 62, 64, 66, 68, 70, 72, 74, 76, 78, 80, 82, 84, 86, 88, 90, 92, 94, 96, 98, 100, 102, 104, 106, 108, 110]\n",
            "Total odd nums in the range 10 to 110 is 50 and nums are [11, 13, 15, 17, 19, 21, 23, 25, 27, 29, 31, 33, 35, 37, 39, 41, 43, 45, 47, 49, 51, 53, 55, 57, 59, 61, 63, 65, 67, 69, 71, 73, 75, 77, 79, 81, 83, 85, 87, 89, 91, 93, 95, 97, 99, 101, 103, 105, 107, 109]\n"
          ]
        }
      ]
    },
    {
      "cell_type": "markdown",
      "source": [
        "Check whether the given number is palindrome or not"
      ],
      "metadata": {
        "id": "zMGJQn57PZ8E"
      }
    },
    {
      "cell_type": "code",
      "source": [
        "x=int(input(\"enter x value\"))\n",
        "rev=0\n",
        "temp=x\n",
        "while temp>0:\n",
        "  rem=temp%10\n",
        "  rev=(rev*10)+rem\n",
        "  temp=temp//10\n",
        "if x==rev:\n",
        "  print(\"palindrome\")\n",
        "else:\n",
        "  print(\"not a plaindrome\")"
      ],
      "metadata": {
        "colab": {
          "base_uri": "https://localhost:8080/"
        },
        "id": "K5Bs3exsPoDY",
        "outputId": "2a3f5fb9-181f-4a27-cedf-b1fd038a1bfa"
      },
      "execution_count": null,
      "outputs": [
        {
          "output_type": "stream",
          "name": "stdout",
          "text": [
            "enter x value5005\n",
            "palindrome\n"
          ]
        }
      ]
    },
    {
      "cell_type": "markdown",
      "source": [
        "Strong number"
      ],
      "metadata": {
        "id": "gVaoXu8YP8PE"
      }
    },
    {
      "cell_type": "code",
      "source": [
        "x = int(input(\" Enter the Number:\"))\n",
        "sum = 0\n",
        "temp = x\n",
        "while(temp > 0):\n",
        "    factorial = 1\n",
        "    rem = temp % 10\n",
        "    for i in range(1, rem + 1):\n",
        "        factorial = factorial * i\n",
        "    print(\"Factorial of %d = %d\" %(rem, factorial))\n",
        "    sum = sum + factorial\n",
        "    temp = temp // 10\n",
        "print(\"\\n Sum of Factorials of a Given Number %d = %d\" %(x, sum))\n",
        "if (sum == x):\n",
        "    print(\" The given number is a Strong Number\")\n",
        "else:\n",
        "    print(\" The given number is not a Strong Number\")"
      ],
      "metadata": {
        "colab": {
          "base_uri": "https://localhost:8080/"
        },
        "id": "f8UwERlKQI_A",
        "outputId": "6e016e0c-b831-43eb-9f09-0dad74eb3802"
      },
      "execution_count": null,
      "outputs": [
        {
          "output_type": "stream",
          "name": "stdout",
          "text": [
            " Enter the Number:50\n",
            "Factorial of 0 = 1\n",
            "Factorial of 5 = 120\n",
            "\n",
            " Sum of Factorials of a Given Number 50 = 121\n",
            " The given number is not a Strong Number\n"
          ]
        }
      ]
    },
    {
      "cell_type": "markdown",
      "source": [
        "Perfect number"
      ],
      "metadata": {
        "id": "xspw-UaOQaNN"
      }
    },
    {
      "cell_type": "code",
      "source": [
        "a = int(input(\"Enter the number: \"))\n",
        "sum = 0\n",
        "for i in range( 1 , a ):\n",
        "      if (a % i == 0):\n",
        "        sum = sum + i\n",
        "      if(sum == sum):\n",
        "        print(\"perfect number\")\n",
        "      else:\n",
        "        print(\"not a perfect number\")    "
      ],
      "metadata": {
        "colab": {
          "base_uri": "https://localhost:8080/"
        },
        "id": "xLbb6Z0KQdSm",
        "outputId": "286ee333-1aae-4153-bfca-daad3e6b149c"
      },
      "execution_count": null,
      "outputs": [
        {
          "output_type": "stream",
          "name": "stdout",
          "text": [
            "Enter the number: 4\n",
            "perfect number\n",
            "perfect number\n",
            "perfect number\n"
          ]
        }
      ]
    },
    {
      "cell_type": "markdown",
      "source": [
        "Finding simple and compound intrest"
      ],
      "metadata": {
        "id": "HOVD720JShwV"
      }
    },
    {
      "cell_type": "code",
      "source": [
        "import math\n",
        "p=int(input(\"enter the principal amount\"))\n",
        "r=int(input(\"enter the intrest amount\"))\n",
        "t=int(input(\"amount of years\"))\n",
        "for i in range(1,t+1):\n",
        "  si=(p*i*r)/100\n",
        "  ci=p*(math.pow(1+r/100,i))\n",
        "print(i,\"yr interst ci is \",ci)\n",
        "print(i,\"yr interst si is \",si)"
      ],
      "metadata": {
        "colab": {
          "base_uri": "https://localhost:8080/"
        },
        "id": "IaZ3AjccSlei",
        "outputId": "7276d651-df16-46cb-e0ba-4b6fe8182e00"
      },
      "execution_count": null,
      "outputs": [
        {
          "output_type": "stream",
          "name": "stdout",
          "text": [
            "enter the principal amount7000\n",
            "enter the intrest amount1\n",
            "amount of years1\n",
            "1 yr interst ci is  7070.0\n",
            "1 yr interst si is  70.0\n"
          ]
        }
      ]
    }
  ]
}